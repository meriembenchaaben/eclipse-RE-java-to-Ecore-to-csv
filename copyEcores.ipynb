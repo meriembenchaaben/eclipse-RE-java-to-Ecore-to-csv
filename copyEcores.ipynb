{
 "cells": [
  {
   "cell_type": "code",
   "execution_count": 11,
   "id": "13966cbf-3c43-45a9-a0ff-d2c3a1cb9ae4",
   "metadata": {},
   "outputs": [],
   "source": [
    "import os\n",
    "import sys\n",
    "import glob\n",
    "import shutil"
   ]
  },
  {
   "cell_type": "code",
   "execution_count": 14,
   "id": "3ce5e80c-6b25-478b-a136-b58b11f707b5",
   "metadata": {},
   "outputs": [],
   "source": [
    "def copyEcoreFiles(root_dir, dest_dir):\n",
    "    print('root_dir = ' + root_dir)\n",
    "    print('root_dir (absolute) = ' + os.path.abspath(root_dir))\n",
    "    \n",
    "    ecores = []\n",
    "    \n",
    "    for root, subdirs, files in os.walk(root_dir):\n",
    "\n",
    "\n",
    "        for filename in files:\n",
    "            if filename.endswith('.ecore'):\n",
    "                file_path = os.path.join(root, filename)\n",
    "                ecores.append({\n",
    "                    'filename': filename, \n",
    "                    'file_path': file_path\n",
    "                })\n",
    "                shutil.copy2(file_path, dest_dir)\n",
    "\n",
    "    return ecores"
   ]
  },
  {
   "cell_type": "code",
   "execution_count": 15,
   "id": "e32e3f05-2b8e-40ea-b5c9-26879768e686",
   "metadata": {},
   "outputs": [
    {
     "name": "stdout",
     "output_type": "stream",
     "text": [
      "walk_dir = C:\\Users\\oussa\\runtime-EclipseApplication\n",
      "walk_dir (absolute) = C:\\Users\\oussa\\runtime-EclipseApplication\n"
     ]
    },
    {
     "data": {
      "text/plain": [
       "[{'filename': '2011fall_project_team.ecore',\n",
       "  'file_path': 'C:\\\\Users\\\\oussa\\\\runtime-EclipseApplication\\\\2011fall_project_team_model\\\\model\\\\2011fall_project_team.ecore'},\n",
       " {'filename': '24hAnalogWidget.ecore',\n",
       "  'file_path': 'C:\\\\Users\\\\oussa\\\\runtime-EclipseApplication\\\\24hAnalogWidgetModel\\\\model\\\\24hAnalogWidget.ecore'},\n",
       " {'filename': 'AAD.ecore',\n",
       "  'file_path': 'C:\\\\Users\\\\oussa\\\\runtime-EclipseApplication\\\\AADModel\\\\model\\\\AAD.ecore'},\n",
       " {'filename': 'accessed.ecore',\n",
       "  'file_path': 'C:\\\\Users\\\\oussa\\\\runtime-EclipseApplication\\\\accessedmodel\\\\model\\\\accessed.ecore'},\n",
       " {'filename': 'ajax_example.ecore',\n",
       "  'file_path': 'C:\\\\Users\\\\oussa\\\\runtime-EclipseApplication\\\\ajax_example_model\\\\model\\\\ajax_example.ecore'},\n",
       " {'filename': 'eme.TestProject-1.ecore',\n",
       "  'file_path': 'C:\\\\Users\\\\oussa\\\\runtime-EclipseApplication\\\\eme.TestProject-1.Model\\\\model\\\\eme.TestProject-1.ecore'},\n",
       " {'filename': 'eme.TestProject2.ecore',\n",
       "  'file_path': 'C:\\\\Users\\\\oussa\\\\runtime-EclipseApplication\\\\eme.TestProject2.Model\\\\model\\\\eme.TestProject2.ecore'},\n",
       " {'filename': 'eme.TestProject3.ecore',\n",
       "  'file_path': 'C:\\\\Users\\\\oussa\\\\runtime-EclipseApplication\\\\eme.TestProject3.Model\\\\model\\\\eme.TestProject3.ecore'}]"
      ]
     },
     "execution_count": 15,
     "metadata": {},
     "output_type": "execute_result"
    }
   ],
   "source": [
    "root_dir = r\"C:\\Users\\oussa\\runtime-EclipseApplication\"\n",
    "dest_dir = './data'\n",
    "parseJavaRepo(root_dir, dest_dir)"
   ]
  },
  {
   "cell_type": "code",
   "execution_count": null,
   "id": "84b2f357-ca66-4233-a359-aafa32042033",
   "metadata": {},
   "outputs": [],
   "source": []
  }
 ],
 "metadata": {
  "kernelspec": {
   "display_name": "Python 3",
   "language": "python",
   "name": "python3"
  },
  "language_info": {
   "codemirror_mode": {
    "name": "ipython",
    "version": 3
   },
   "file_extension": ".py",
   "mimetype": "text/x-python",
   "name": "python",
   "nbconvert_exporter": "python",
   "pygments_lexer": "ipython3",
   "version": "3.8.10"
  }
 },
 "nbformat": 4,
 "nbformat_minor": 5
}
