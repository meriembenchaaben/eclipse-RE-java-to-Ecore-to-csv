{
 "cells": [
  {
   "cell_type": "code",
   "execution_count": 1,
   "id": "929f4137-d3b3-44f9-88e6-21d661e6d1d5",
   "metadata": {},
   "outputs": [],
   "source": [
    "import os\n",
    "import sys\n",
    "import glob\n",
    "import shutil"
   ]
  },
  {
   "cell_type": "code",
   "execution_count": null,
   "id": "67166579-7f6e-4a0a-8deb-f6d4eee144d2",
   "metadata": {},
   "outputs": [],
   "source": []
  },
  {
   "cell_type": "code",
   "execution_count": 2,
   "id": "982711e7-29e2-41c1-be8b-aad897f1d032",
   "metadata": {},
   "outputs": [],
   "source": [
    "root_folder = rf'C:\\Users\\merie\\OneDrive\\Documents\\GEODES\\Hiver2022\\Thesis\\script_Extraction'"
   ]
  },
  {
   "cell_type": "code",
   "execution_count": 3,
   "id": "f9341a09-c162-4081-b1ef-aa644b38e5a8",
   "metadata": {},
   "outputs": [],
   "source": [
    "projects = [root_folder+'/'+folder for folder in os.listdir(root_folder) if os.path.isdir(root_folder+'/'+folder)]"
   ]
  },
  {
   "cell_type": "code",
   "execution_count": 4,
   "id": "3c8d9c95-0aa6-4f61-9e7c-7a0cac7be095",
   "metadata": {
    "scrolled": true
   },
   "outputs": [
    {
     "data": {
      "text/plain": [
       "['C:\\\\Users\\\\merie\\\\OneDrive\\\\Documents\\\\GEODES\\\\Hiver2022\\\\Thesis\\\\script_Extraction/.ipynb_checkpoints',\n",
       " 'C:\\\\Users\\\\merie\\\\OneDrive\\\\Documents\\\\GEODES\\\\Hiver2022\\\\Thesis\\\\script_Extraction/.metadata',\n",
       " 'C:\\\\Users\\\\merie\\\\OneDrive\\\\Documents\\\\GEODES\\\\Hiver2022\\\\Thesis\\\\script_Extraction/ecore-to-text',\n",
       " 'C:\\\\Users\\\\merie\\\\OneDrive\\\\Documents\\\\GEODES\\\\Hiver2022\\\\Thesis\\\\script_Extraction/EcoreMetamodelExtraction-multi']"
      ]
     },
     "execution_count": 4,
     "metadata": {},
     "output_type": "execute_result"
    }
   ],
   "source": [
    "projects"
   ]
  },
  {
   "cell_type": "code",
   "execution_count": 10,
   "id": "8d29e56a-7355-4088-b885-3c5716871006",
   "metadata": {},
   "outputs": [],
   "source": [
    "filename = '.project'\n",
    "\n",
    "for project in projects:\n",
    "    name = project.split('/')[-1]\n",
    "    content = f'''<?xml version=\"1.0\" encoding=\"UTF-8\"?>\n",
    "<projectDescription>\n",
    "    <name>{name}</name>\n",
    "    <comment></comment>\n",
    "    <projects>\n",
    "    </projects>\n",
    "    <buildSpec>\n",
    "        <buildCommand>\n",
    "            <name>org.eclipse.jdt.core.javabuilder</name>\n",
    "            <arguments>\n",
    "            </arguments>\n",
    "        </buildCommand>\n",
    "    </buildSpec>\n",
    "    <natures>\n",
    "        <nature>org.eclipse.jdt.core.javanature</nature>\n",
    "    </natures>\n",
    "</projectDescription>\n",
    "        '''\n",
    "    \n",
    "    with open(os.path.join(project, filename), 'w') as file:\n",
    "        file.write(content)"
   ]
  },
  {
   "cell_type": "code",
   "execution_count": null,
   "id": "21bbdb86-7686-462c-b6ce-6497a712b19d",
   "metadata": {},
   "outputs": [],
   "source": []
  },
  {
   "cell_type": "code",
   "execution_count": null,
   "id": "1f79e6ab-f381-4c5e-bd36-0025a024efb3",
   "metadata": {},
   "outputs": [],
   "source": []
  },
  {
   "cell_type": "code",
   "execution_count": null,
   "id": "c883c8c6-287a-4a77-b736-40ba548454d3",
   "metadata": {},
   "outputs": [],
   "source": []
  },
  {
   "cell_type": "code",
   "execution_count": null,
   "id": "fb9ce89a-070c-40f1-9a90-a84e9c34e5ce",
   "metadata": {},
   "outputs": [],
   "source": []
  },
  {
   "cell_type": "code",
   "execution_count": null,
   "id": "f0d6c468-721e-42be-99f3-c130b40e88c9",
   "metadata": {},
   "outputs": [],
   "source": []
  }
 ],
 "metadata": {
  "kernelspec": {
   "display_name": "Python 3",
   "language": "python",
   "name": "python3"
  },
  "language_info": {
   "codemirror_mode": {
    "name": "ipython",
    "version": 3
   },
   "file_extension": ".py",
   "mimetype": "text/x-python",
   "name": "python",
   "nbconvert_exporter": "python",
   "pygments_lexer": "ipython3",
   "version": "3.8.8"
  }
 },
 "nbformat": 4,
 "nbformat_minor": 5
}
